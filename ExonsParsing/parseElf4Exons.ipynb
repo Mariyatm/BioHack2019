{
 "cells": [
  {
   "cell_type": "code",
   "execution_count": 16,
   "metadata": {},
   "outputs": [],
   "source": [
    "import csv"
   ]
  },
  {
   "cell_type": "code",
   "execution_count": 17,
   "metadata": {},
   "outputs": [],
   "source": [
    "res_data = []"
   ]
  },
  {
   "cell_type": "code",
   "execution_count": 18,
   "metadata": {},
   "outputs": [
    {
     "name": "stdout",
     "output_type": "stream",
     "text": [
      "['1..117', '35150..35430', '39812..39983', '40417..40509', '41861..42052', '43363..43446', '43523..43715', '44318..44695', '45573..50078']\n",
      "['7932..8253', '35150..35430', '39812..39983', '40417..40509', '41861..42052', '43363..43446', '43523..43715', '44318..44695', '45573..50078']\n",
      "['8403..8539', '35150..35430', '39812..39983', '40417..40509', '41861..42052', '43363..43446', '43523..43715', '44318..44695', '45573..50078']\n",
      "['23460..24078']\n"
     ]
    }
   ],
   "source": [
    "with open(\"inpData.txt\") as inp_f:\n",
    "    for line in inp_f:\n",
    "        line = line.strip().split(\",\")\n",
    "        for elem in line:\n",
    "            exonStartEnd = list(map(int, elem.split(\"..\")))\n",
    "            res_data.append(exonStartEnd)\n",
    "        print(line)"
   ]
  },
  {
   "cell_type": "code",
   "execution_count": 20,
   "metadata": {},
   "outputs": [],
   "source": [
    "with open(\"exonsStartEndPos.tsv\", \"w\") as out_f:\n",
    "    csv_writer = csv.writer(out_f, delimiter = \"\\t\")\n",
    "    csv_writer.writerows(res_data)"
   ]
  },
  {
   "cell_type": "code",
   "execution_count": null,
   "metadata": {},
   "outputs": [],
   "source": []
  }
 ],
 "metadata": {
  "kernelspec": {
   "display_name": "Python 3",
   "language": "python",
   "name": "python3"
  },
  "language_info": {
   "codemirror_mode": {
    "name": "ipython",
    "version": 3
   },
   "file_extension": ".py",
   "mimetype": "text/x-python",
   "name": "python",
   "nbconvert_exporter": "python",
   "pygments_lexer": "ipython3",
   "version": "3.7.2"
  }
 },
 "nbformat": 4,
 "nbformat_minor": 2
}
